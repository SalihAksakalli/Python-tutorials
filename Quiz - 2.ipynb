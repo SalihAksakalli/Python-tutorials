{
 "cells": [
  {
   "cell_type": "code",
   "execution_count": 1,
   "id": "411e3fc5",
   "metadata": {},
   "outputs": [],
   "source": [
    "# 1- Aşağıdaki kodun çıktısı ne olacaktır ?"
   ]
  },
  {
   "cell_type": "code",
   "execution_count": 2,
   "id": "93ce3321",
   "metadata": {},
   "outputs": [],
   "source": [
    "x = 5\n",
    "y = 3\n",
    "z = 6"
   ]
  },
  {
   "cell_type": "code",
   "execution_count": 3,
   "id": "4d4129a9",
   "metadata": {},
   "outputs": [
    {
     "data": {
      "text/plain": [
       "True"
      ]
     },
     "execution_count": 3,
     "metadata": {},
     "output_type": "execute_result"
    }
   ],
   "source": [
    "x>y and z>x"
   ]
  },
  {
   "cell_type": "code",
   "execution_count": 4,
   "id": "f90b0168",
   "metadata": {},
   "outputs": [],
   "source": [
    "# 1- Aynı değerlerle kod şu şekilde değişirse  kodun çıktısı ne olacaktır ?"
   ]
  },
  {
   "cell_type": "code",
   "execution_count": 5,
   "id": "f25c216e",
   "metadata": {},
   "outputs": [
    {
     "data": {
      "text/plain": [
       "True"
      ]
     },
     "execution_count": 5,
     "metadata": {},
     "output_type": "execute_result"
    }
   ],
   "source": [
    "x>y or z>x"
   ]
  },
  {
   "cell_type": "code",
   "execution_count": 6,
   "id": "96d64923",
   "metadata": {},
   "outputs": [],
   "source": [
    "# aşağıdaki sözlükte, değerler içinde c harfinin geçip geçmediğini gösteren bir if koşulu  yazınız ."
   ]
  },
  {
   "cell_type": "code",
   "execution_count": 7,
   "id": "e9b3de49",
   "metadata": {},
   "outputs": [],
   "source": [
    "my_dict = {\"k1\":10,\"k2k\":\"a\",\"k32\":30,\"k4\":\"c\"}"
   ]
  },
  {
   "cell_type": "code",
   "execution_count": 8,
   "id": "ccaaeac1",
   "metadata": {},
   "outputs": [
    {
     "data": {
      "text/plain": [
       "'c'"
      ]
     },
     "execution_count": 8,
     "metadata": {},
     "output_type": "execute_result"
    }
   ],
   "source": [
    "my_dict[\"k4\"]"
   ]
  },
  {
   "cell_type": "code",
   "execution_count": 9,
   "id": "0d16cd41",
   "metadata": {},
   "outputs": [
    {
     "name": "stdout",
     "output_type": "stream",
     "text": [
      "True\n"
     ]
    }
   ],
   "source": [
    "# Benim cevabım (my Reply)\n",
    "for i in my_dict:\n",
    "    if i == \"k4\":\n",
    "        print(\"True\")"
   ]
  },
  {
   "cell_type": "code",
   "execution_count": 31,
   "id": "355b13ff",
   "metadata": {},
   "outputs": [
    {
     "name": "stdout",
     "output_type": "stream",
     "text": [
      "True\n"
     ]
    }
   ],
   "source": [
    "# Hocanun cevabı (instructor Reply)\n",
    "if \"c\" in my_dict.values():\n",
    "    print(\"True\")\n"
   ]
  },
  {
   "cell_type": "code",
   "execution_count": 10,
   "id": "bb38b344",
   "metadata": {},
   "outputs": [],
   "source": [
    "# aşağıdaki sözlükte, anahtarlar içinde a harfinin geçip geçmediğini gösteren bir if koşulunu yazınız"
   ]
  },
  {
   "cell_type": "code",
   "execution_count": 11,
   "id": "0d2f37cb",
   "metadata": {},
   "outputs": [],
   "source": [
    "my_dict2 = {\"b\":203,\"c\":\"a\",\"a\":30,\"d\":\"f\"}"
   ]
  },
  {
   "cell_type": "code",
   "execution_count": 35,
   "id": "fb9ba424",
   "metadata": {},
   "outputs": [
    {
     "name": "stdout",
     "output_type": "stream",
     "text": [
      "True\n"
     ]
    }
   ],
   "source": [
    "for i in my_dict2:\n",
    "    if i == \"a\":        \n",
    "        print(\"True\")"
   ]
  },
  {
   "cell_type": "code",
   "execution_count": 36,
   "id": "2e7116df",
   "metadata": {},
   "outputs": [
    {
     "name": "stdout",
     "output_type": "stream",
     "text": [
      "True\n"
     ]
    }
   ],
   "source": [
    "# Hocanun cevabı (instructor Reply)\n",
    "if \"a\" in my_dict2.keys():\n",
    "    print(\"True\")"
   ]
  },
  {
   "cell_type": "code",
   "execution_count": 13,
   "id": "def42d11",
   "metadata": {},
   "outputs": [],
   "source": [
    "#aşağıdaki listedeki sayılardan sadece çift olanları yazdıran kodu yazınız"
   ]
  },
  {
   "cell_type": "code",
   "execution_count": 14,
   "id": "ad3c4321",
   "metadata": {},
   "outputs": [],
   "source": [
    "Numbers = [1,2,3,4,565,6897,45,44,64,52,258963,14788965,12]"
   ]
  },
  {
   "cell_type": "code",
   "execution_count": 15,
   "id": "1a39b3b3",
   "metadata": {},
   "outputs": [
    {
     "name": "stdout",
     "output_type": "stream",
     "text": [
      "Sayi tektir.\n",
      "2\n",
      "Sayi tektir.\n",
      "4\n",
      "Sayi tektir.\n",
      "Sayi tektir.\n",
      "Sayi tektir.\n",
      "44\n",
      "64\n",
      "52\n",
      "Sayi tektir.\n",
      "Sayi tektir.\n",
      "12\n"
     ]
    }
   ],
   "source": [
    "for i in Numbers:\n",
    "    if i % 2 == 0 :\n",
    "        print(i)\n",
    "    else:\n",
    "        print(\"Sayi tektir.\")"
   ]
  },
  {
   "cell_type": "code",
   "execution_count": 16,
   "id": "73b7a1ff",
   "metadata": {},
   "outputs": [],
   "source": [
    "# Aşağıdada ki listede ki sayılar bir dairenin yarı çapını vermektedir."
   ]
  },
  {
   "cell_type": "code",
   "execution_count": 17,
   "id": "5370b948",
   "metadata": {},
   "outputs": [],
   "source": [
    "# Tüm dairelerin çevresini içeren başka yeni bir liste oluşturunuz.(2*pi*r)"
   ]
  },
  {
   "cell_type": "code",
   "execution_count": 18,
   "id": "ee6c7c92",
   "metadata": {},
   "outputs": [],
   "source": [
    "r = [3,2,5,8,4,6,9,12]\n",
    "pi = 3.14\n",
    "empty = []"
   ]
  },
  {
   "cell_type": "code",
   "execution_count": 19,
   "id": "95bb8b2f",
   "metadata": {},
   "outputs": [],
   "source": [
    "for num in r :\n",
    "      empty.append(num*pi*2)"
   ]
  },
  {
   "cell_type": "code",
   "execution_count": 20,
   "id": "326acad0",
   "metadata": {},
   "outputs": [
    {
     "data": {
      "text/plain": [
       "[18.84, 12.56, 31.400000000000002, 50.24, 25.12, 37.68, 56.52, 75.36]"
      ]
     },
     "execution_count": 20,
     "metadata": {},
     "output_type": "execute_result"
    }
   ],
   "source": [
    "empty"
   ]
  },
  {
   "cell_type": "code",
   "execution_count": 21,
   "id": "9bc98e11",
   "metadata": {},
   "outputs": [],
   "source": [
    "#Aşağıda ki listede isim - yas eşleşmelerinin bulunduğu yapılar mevcuttur."
   ]
  },
  {
   "cell_type": "code",
   "execution_count": 22,
   "id": "44573a73",
   "metadata": {},
   "outputs": [],
   "source": [
    "#sadece yaşların olduğu yeni ve ayrı bir liste oluşturunuz ."
   ]
  },
  {
   "cell_type": "code",
   "execution_count": 23,
   "id": "daeefb88",
   "metadata": {},
   "outputs": [],
   "source": [
    "age_name_list = [(\"Ahmet\",30),(\"Ayse\",24),(\"Mehmet\",40),(\"Fatma\",29)]\n",
    "isimler = []\n",
    "yaslar = []"
   ]
  },
  {
   "cell_type": "code",
   "execution_count": 24,
   "id": "0bf1a129",
   "metadata": {},
   "outputs": [],
   "source": [
    "for (i,a) in age_name_list:\n",
    "    isimler.append([i])"
   ]
  },
  {
   "cell_type": "code",
   "execution_count": 25,
   "id": "7cd86e32",
   "metadata": {},
   "outputs": [
    {
     "data": {
      "text/plain": [
       "[['Ahmet'], ['Ayse'], ['Mehmet'], ['Fatma']]"
      ]
     },
     "execution_count": 25,
     "metadata": {},
     "output_type": "execute_result"
    }
   ],
   "source": [
    "isimler"
   ]
  },
  {
   "cell_type": "code",
   "execution_count": 26,
   "id": "c373fdbf",
   "metadata": {},
   "outputs": [],
   "source": [
    "for (i,a) in age_name_list:\n",
    "    yaslar.append([a])"
   ]
  },
  {
   "cell_type": "code",
   "execution_count": 27,
   "id": "0e403f21",
   "metadata": {},
   "outputs": [
    {
     "data": {
      "text/plain": [
       "[[30], [24], [40], [29]]"
      ]
     },
     "execution_count": 27,
     "metadata": {},
     "output_type": "execute_result"
    }
   ],
   "source": [
    "yaslar"
   ]
  },
  {
   "cell_type": "code",
   "execution_count": 38,
   "id": "3b127c92",
   "metadata": {},
   "outputs": [],
   "source": [
    "# Hocanun cevabı (instructor Reply)\n",
    "yas_listesi = []\n",
    "for (isim,yas) in age_name_list:\n",
    "    yas_listesi.append(yas)"
   ]
  },
  {
   "cell_type": "code",
   "execution_count": 39,
   "id": "2708b0a9",
   "metadata": {},
   "outputs": [
    {
     "data": {
      "text/plain": [
       "[30, 24, 40, 29]"
      ]
     },
     "execution_count": 39,
     "metadata": {},
     "output_type": "execute_result"
    }
   ],
   "source": [
    "yas_listesi"
   ]
  },
  {
   "cell_type": "code",
   "execution_count": 28,
   "id": "e5452a03",
   "metadata": {},
   "outputs": [],
   "source": [
    "#Aşağıdaki müzüik gruplarından birini rastgele yazdıran bir kod yazınız ."
   ]
  },
  {
   "cell_type": "code",
   "execution_count": 29,
   "id": "c9a9c967",
   "metadata": {},
   "outputs": [],
   "source": [
    "metal_list = [\"Metallica\",\"Iron Maiden\",\"Dream Theater\",\"Magadeth\",\"AC/DC\"]"
   ]
  },
  {
   "cell_type": "code",
   "execution_count": 30,
   "id": "5b2d0e65",
   "metadata": {},
   "outputs": [
    {
     "name": "stdout",
     "output_type": "stream",
     "text": [
      "Müzik grubunuz : Metallica\n"
     ]
    }
   ],
   "source": [
    "for i  in metal_list:\n",
    "    i == metal_list[0]\n",
    "    print(f\"Müzik grubunuz : {metal_list[0]}\")\n",
    "    break"
   ]
  },
  {
   "cell_type": "code",
   "execution_count": 40,
   "id": "ea5ba045",
   "metadata": {},
   "outputs": [],
   "source": [
    "# Hocanun cevabı (instructor Reply)\n",
    "from random import randint"
   ]
  },
  {
   "cell_type": "code",
   "execution_count": 43,
   "id": "c996e61c",
   "metadata": {},
   "outputs": [
    {
     "data": {
      "text/plain": [
       "'Magadeth'"
      ]
     },
     "execution_count": 43,
     "metadata": {},
     "output_type": "execute_result"
    }
   ],
   "source": [
    "metal_list[randint(0,len(metal_list)-1)]"
   ]
  }
 ],
 "metadata": {
  "kernelspec": {
   "display_name": "Python 3 (ipykernel)",
   "language": "python",
   "name": "python3"
  },
  "language_info": {
   "codemirror_mode": {
    "name": "ipython",
    "version": 3
   },
   "file_extension": ".py",
   "mimetype": "text/x-python",
   "name": "python",
   "nbconvert_exporter": "python",
   "pygments_lexer": "ipython3",
   "version": "3.11.4"
  }
 },
 "nbformat": 4,
 "nbformat_minor": 5
}
