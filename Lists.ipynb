{
 "cells": [
  {
   "cell_type": "code",
   "execution_count": 1,
   "id": "46b05827",
   "metadata": {},
   "outputs": [
    {
     "data": {
      "text/plain": [
       "['Hello', 'Python']"
      ]
     },
     "execution_count": 1,
     "metadata": {},
     "output_type": "execute_result"
    }
   ],
   "source": [
    "myString = \"Hello Python\"\n",
    "myString.split()"
   ]
  },
  {
   "cell_type": "code",
   "execution_count": 2,
   "id": "f1c40f9a",
   "metadata": {},
   "outputs": [],
   "source": [
    "myList = [10,20,30]"
   ]
  },
  {
   "cell_type": "code",
   "execution_count": 3,
   "id": "4e45b029",
   "metadata": {},
   "outputs": [],
   "source": [
    "x = 10\n",
    "y = 20\n",
    "z = 30"
   ]
  },
  {
   "cell_type": "code",
   "execution_count": null,
   "id": "ec17c24f",
   "metadata": {},
   "outputs": [],
   "source": [
    "myList = [x,y,z]"
   ]
  },
  {
   "cell_type": "code",
   "execution_count": null,
   "id": "f67cad22",
   "metadata": {},
   "outputs": [],
   "source": [
    "myList"
   ]
  },
  {
   "cell_type": "code",
   "execution_count": 6,
   "id": "76049167",
   "metadata": {},
   "outputs": [
    {
     "data": {
      "text/plain": [
       "10"
      ]
     },
     "execution_count": 6,
     "metadata": {},
     "output_type": "execute_result"
    }
   ],
   "source": [
    "myList[0]"
   ]
  },
  {
   "cell_type": "code",
   "execution_count": 7,
   "id": "6a1c5043",
   "metadata": {},
   "outputs": [],
   "source": [
    "myList[0] = 1000"
   ]
  },
  {
   "cell_type": "code",
   "execution_count": 8,
   "id": "e49729e5",
   "metadata": {},
   "outputs": [
    {
     "data": {
      "text/plain": [
       "1000"
      ]
     },
     "execution_count": 8,
     "metadata": {},
     "output_type": "execute_result"
    }
   ],
   "source": [
    "myList[0]"
   ]
  },
  {
   "cell_type": "code",
   "execution_count": 9,
   "id": "f80bb63c",
   "metadata": {},
   "outputs": [],
   "source": [
    "#mutable , mutability"
   ]
  },
  {
   "cell_type": "code",
   "execution_count": 10,
   "id": "5a3f5ce1",
   "metadata": {},
   "outputs": [
    {
     "data": {
      "text/plain": [
       "[1000, 20, 30]"
      ]
     },
     "execution_count": 10,
     "metadata": {},
     "output_type": "execute_result"
    }
   ],
   "source": [
    " myList"
   ]
  },
  {
   "cell_type": "code",
   "execution_count": 11,
   "id": "ff3d1c53",
   "metadata": {},
   "outputs": [],
   "source": [
    " myList.append(x)"
   ]
  },
  {
   "cell_type": "code",
   "execution_count": 12,
   "id": "55c264cf",
   "metadata": {},
   "outputs": [
    {
     "data": {
      "text/plain": [
       "[1000, 20, 30, 10]"
      ]
     },
     "execution_count": 12,
     "metadata": {},
     "output_type": "execute_result"
    }
   ],
   "source": [
    "myList"
   ]
  },
  {
   "cell_type": "code",
   "execution_count": 33,
   "id": "dcf346ea",
   "metadata": {},
   "outputs": [],
   "source": [
    "myList.insert(1,15) # ilk nokta  kaçıncı indeks ikinci nokta eklemek istediğim değer"
   ]
  },
  {
   "cell_type": "code",
   "execution_count": 23,
   "id": "19abbb26",
   "metadata": {},
   "outputs": [
    {
     "data": {
      "text/plain": [
       "[1000, 15, 20, 30]"
      ]
     },
     "execution_count": 23,
     "metadata": {},
     "output_type": "execute_result"
    }
   ],
   "source": [
    "myList"
   ]
  },
  {
   "cell_type": "code",
   "execution_count": 24,
   "id": "5194949f",
   "metadata": {},
   "outputs": [
    {
     "data": {
      "text/plain": [
       "30"
      ]
     },
     "execution_count": 24,
     "metadata": {},
     "output_type": "execute_result"
    }
   ],
   "source": [
    "myList.pop()"
   ]
  },
  {
   "cell_type": "code",
   "execution_count": 25,
   "id": "5d8e4269",
   "metadata": {},
   "outputs": [
    {
     "name": "stdout",
     "output_type": "stream",
     "text": [
      "enter x5\n"
     ]
    }
   ],
   "source": [
    "x = int(input(\"enter x\"))"
   ]
  },
  {
   "cell_type": "code",
   "execution_count": 26,
   "id": "303a1d49",
   "metadata": {},
   "outputs": [
    {
     "data": {
      "text/plain": [
       "5"
      ]
     },
     "execution_count": 26,
     "metadata": {},
     "output_type": "execute_result"
    }
   ],
   "source": [
    "x\n"
   ]
  },
  {
   "cell_type": "code",
   "execution_count": 28,
   "id": "5d20d8f6",
   "metadata": {},
   "outputs": [
    {
     "name": "stdout",
     "output_type": "stream",
     "text": [
      "enter y7\n"
     ]
    }
   ],
   "source": [
    "y = int(input(\"enter y\"))"
   ]
  },
  {
   "cell_type": "code",
   "execution_count": 29,
   "id": "f353dd5d",
   "metadata": {},
   "outputs": [
    {
     "name": "stdout",
     "output_type": "stream",
     "text": [
      "enter z54\n"
     ]
    }
   ],
   "source": [
    "z = int(input(\"enter z\"))"
   ]
  },
  {
   "cell_type": "code",
   "execution_count": 30,
   "id": "f8606c48",
   "metadata": {},
   "outputs": [],
   "source": [
    "inputList = []"
   ]
  },
  {
   "cell_type": "code",
   "execution_count": 31,
   "id": "b431406d",
   "metadata": {},
   "outputs": [],
   "source": [
    "inputList.append(x)\n",
    "inputList.append(y)\n",
    "inputList.append(z)"
   ]
  },
  {
   "cell_type": "code",
   "execution_count": 32,
   "id": "ad7cf60a",
   "metadata": {},
   "outputs": [
    {
     "data": {
      "text/plain": [
       "[5, 7, 54]"
      ]
     },
     "execution_count": 32,
     "metadata": {},
     "output_type": "execute_result"
    }
   ],
   "source": [
    "inputList"
   ]
  },
  {
   "cell_type": "code",
   "execution_count": 34,
   "id": "502f90c1",
   "metadata": {},
   "outputs": [],
   "source": [
    "myInteger = 50"
   ]
  },
  {
   "cell_type": "code",
   "execution_count": 35,
   "id": "8828b5c4",
   "metadata": {},
   "outputs": [
    {
     "data": {
      "text/plain": [
       "'50'"
      ]
     },
     "execution_count": 35,
     "metadata": {},
     "output_type": "execute_result"
    }
   ],
   "source": [
    "str(myInteger)"
   ]
  },
  {
   "cell_type": "code",
   "execution_count": 37,
   "id": "8d12f079",
   "metadata": {},
   "outputs": [],
   "source": [
    "myString = \"50\""
   ]
  },
  {
   "cell_type": "code",
   "execution_count": 38,
   "id": "ec1938ae",
   "metadata": {},
   "outputs": [
    {
     "data": {
      "text/plain": [
       "50"
      ]
     },
     "execution_count": 38,
     "metadata": {},
     "output_type": "execute_result"
    }
   ],
   "source": [
    "int(myString)"
   ]
  },
  {
   "cell_type": "code",
   "execution_count": 39,
   "id": "81df3464",
   "metadata": {},
   "outputs": [
    {
     "data": {
      "text/plain": [
       "50.0"
      ]
     },
     "execution_count": 39,
     "metadata": {},
     "output_type": "execute_result"
    }
   ],
   "source": [
    "float(myString)"
   ]
  },
  {
   "cell_type": "code",
   "execution_count": 42,
   "id": "b2dd4fe6",
   "metadata": {},
   "outputs": [
    {
     "data": {
      "text/plain": [
       "10"
      ]
     },
     "execution_count": 42,
     "metadata": {},
     "output_type": "execute_result"
    }
   ],
   "source": [
    "int(inputList[0]*2)"
   ]
  },
  {
   "cell_type": "code",
   "execution_count": 43,
   "id": "38d806a0",
   "metadata": {},
   "outputs": [],
   "source": [
    "mixedList  = [\"Salih\",40,3.14]"
   ]
  },
  {
   "cell_type": "code",
   "execution_count": 44,
   "id": "35f61648",
   "metadata": {},
   "outputs": [
    {
     "data": {
      "text/plain": [
       "list"
      ]
     },
     "execution_count": 44,
     "metadata": {},
     "output_type": "execute_result"
    }
   ],
   "source": [
    "type(mixedList)"
   ]
  },
  {
   "cell_type": "code",
   "execution_count": 45,
   "id": "42f5a48b",
   "metadata": {},
   "outputs": [],
   "source": [
    "list1  = [10,200,359]\n",
    "list2  = [24,36,478] \n",
    "Sumlist =list1+list2"
   ]
  },
  {
   "cell_type": "code",
   "execution_count": 46,
   "id": "be835d0b",
   "metadata": {},
   "outputs": [
    {
     "data": {
      "text/plain": [
       "[10, 200, 359, 24, 36, 478]"
      ]
     },
     "execution_count": 46,
     "metadata": {},
     "output_type": "execute_result"
    }
   ],
   "source": [
    "Sumlist"
   ]
  },
  {
   "cell_type": "code",
   "execution_count": 47,
   "id": "81c31918",
   "metadata": {},
   "outputs": [
    {
     "data": {
      "text/plain": [
       "[10, 200, 359, 24, 36, 478, 10, 200, 359, 24, 36, 478]"
      ]
     },
     "execution_count": 47,
     "metadata": {},
     "output_type": "execute_result"
    }
   ],
   "source": [
    "Sumlist*2"
   ]
  },
  {
   "cell_type": "code",
   "execution_count": 48,
   "id": "1fcbccad",
   "metadata": {},
   "outputs": [
    {
     "data": {
      "text/plain": [
       "int"
      ]
     },
     "execution_count": 48,
     "metadata": {},
     "output_type": "execute_result"
    }
   ],
   "source": [
    "type(mixedList[1])"
   ]
  },
  {
   "cell_type": "code",
   "execution_count": 49,
   "id": "6ba5ec5d",
   "metadata": {},
   "outputs": [],
   "source": [
    "#NestedList"
   ]
  },
  {
   "cell_type": "code",
   "execution_count": 50,
   "id": "fe922b79",
   "metadata": {},
   "outputs": [],
   "source": [
    "myNestedList = [10,200,3458,[\"salih\",256,845]]"
   ]
  },
  {
   "cell_type": "code",
   "execution_count": 52,
   "id": "0f49aa14",
   "metadata": {},
   "outputs": [
    {
     "data": {
      "text/plain": [
       "'salih'"
      ]
     },
     "execution_count": 52,
     "metadata": {},
     "output_type": "execute_result"
    }
   ],
   "source": [
    "myNestedList[3][0]"
   ]
  },
  {
   "cell_type": "code",
   "execution_count": 53,
   "id": "eb7c1407",
   "metadata": {},
   "outputs": [
    {
     "data": {
      "text/plain": [
       "10"
      ]
     },
     "execution_count": 53,
     "metadata": {},
     "output_type": "execute_result"
    }
   ],
   "source": [
    "myNestedList[0]"
   ]
  },
  {
   "cell_type": "code",
   "execution_count": 54,
   "id": "0b9be8ff",
   "metadata": {},
   "outputs": [],
   "source": [
    "x = myNestedList[0]"
   ]
  },
  {
   "cell_type": "code",
   "execution_count": 55,
   "id": "3d32a02d",
   "metadata": {},
   "outputs": [],
   "source": [
    "smallList = myNestedList[3]"
   ]
  },
  {
   "cell_type": "code",
   "execution_count": 56,
   "id": "d886f2f6",
   "metadata": {},
   "outputs": [
    {
     "data": {
      "text/plain": [
       "['salih', 256, 845]"
      ]
     },
     "execution_count": 56,
     "metadata": {},
     "output_type": "execute_result"
    }
   ],
   "source": [
    "smallList"
   ]
  },
  {
   "cell_type": "code",
   "execution_count": 58,
   "id": "72a3e639",
   "metadata": {},
   "outputs": [],
   "source": [
    "lastList = [\"a\",\"b\",[74,\"Salih\",47,25],\"f\"]"
   ]
  },
  {
   "cell_type": "code",
   "execution_count": 59,
   "id": "14fbc1db",
   "metadata": {},
   "outputs": [
    {
     "data": {
      "text/plain": [
       "4"
      ]
     },
     "execution_count": 59,
     "metadata": {},
     "output_type": "execute_result"
    }
   ],
   "source": [
    "len(lastList)"
   ]
  },
  {
   "cell_type": "code",
   "execution_count": 60,
   "id": "d91bb13d",
   "metadata": {},
   "outputs": [
    {
     "data": {
      "text/plain": [
       "25"
      ]
     },
     "execution_count": 60,
     "metadata": {},
     "output_type": "execute_result"
    }
   ],
   "source": [
    "lastList[2][3]"
   ]
  },
  {
   "cell_type": "code",
   "execution_count": 61,
   "id": "78a428c5",
   "metadata": {},
   "outputs": [
    {
     "data": {
      "text/plain": [
       "['a']"
      ]
     },
     "execution_count": 61,
     "metadata": {},
     "output_type": "execute_result"
    }
   ],
   "source": [
    "lastList[:1:]"
   ]
  },
  {
   "cell_type": "code",
   "execution_count": 63,
   "id": "06a68252",
   "metadata": {},
   "outputs": [
    {
     "data": {
      "text/plain": [
       "['a', [74, 'Salih', 47, 25]]"
      ]
     },
     "execution_count": 63,
     "metadata": {},
     "output_type": "execute_result"
    }
   ],
   "source": [
    "lastList[:4:2]"
   ]
  },
  {
   "cell_type": "code",
   "execution_count": null,
   "id": "ba295173",
   "metadata": {},
   "outputs": [],
   "source": []
  }
 ],
 "metadata": {
  "kernelspec": {
   "display_name": "Python 3 (ipykernel)",
   "language": "python",
   "name": "python3"
  },
  "language_info": {
   "codemirror_mode": {
    "name": "ipython",
    "version": 3
   },
   "file_extension": ".py",
   "mimetype": "text/x-python",
   "name": "python",
   "nbconvert_exporter": "python",
   "pygments_lexer": "ipython3",
   "version": "3.11.4"
  }
 },
 "nbformat": 4,
 "nbformat_minor": 5
}
