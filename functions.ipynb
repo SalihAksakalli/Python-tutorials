{
 "cells": [
  {
   "cell_type": "code",
   "execution_count": 1,
   "id": "d38799ae",
   "metadata": {},
   "outputs": [],
   "source": [
    "def hello_python():\n",
    "    print(\"hello world\")"
   ]
  },
  {
   "cell_type": "code",
   "execution_count": 2,
   "id": "164a4f6f",
   "metadata": {},
   "outputs": [
    {
     "name": "stdout",
     "output_type": "stream",
     "text": [
      "hello world\n"
     ]
    }
   ],
   "source": [
    "hello_python()"
   ]
  },
  {
   "cell_type": "code",
   "execution_count": 7,
   "id": "2481c279",
   "metadata": {},
   "outputs": [],
   "source": [
    "def hello_name(name):\n",
    "    print(f\"Hosgeldin {name}\")"
   ]
  },
  {
   "cell_type": "code",
   "execution_count": 8,
   "id": "8f20ed7c",
   "metadata": {},
   "outputs": [
    {
     "name": "stdout",
     "output_type": "stream",
     "text": [
      "Hosgeldin salih\n"
     ]
    }
   ],
   "source": [
    "hello_name(\"salih\")"
   ]
  },
  {
   "cell_type": "code",
   "execution_count": 9,
   "id": "27662d3d",
   "metadata": {},
   "outputs": [],
   "source": [
    "def sum_example(num1,num2):\n",
    "    print(num1+num2)"
   ]
  },
  {
   "cell_type": "code",
   "execution_count": 11,
   "id": "6dfb68d7",
   "metadata": {},
   "outputs": [
    {
     "name": "stdout",
     "output_type": "stream",
     "text": [
      "15\n"
     ]
    }
   ],
   "source": [
    "sum_example(7,8)"
   ]
  },
  {
   "cell_type": "code",
   "execution_count": 12,
   "id": "04a0dcdc",
   "metadata": {},
   "outputs": [],
   "source": [
    "#return "
   ]
  },
  {
   "cell_type": "code",
   "execution_count": 13,
   "id": "cd6800f3",
   "metadata": {},
   "outputs": [],
   "source": [
    "def summation(num1,num2,num3):\n",
    "    print(num1+num2+num3)"
   ]
  },
  {
   "cell_type": "code",
   "execution_count": 15,
   "id": "60cc23f2",
   "metadata": {},
   "outputs": [
    {
     "name": "stdout",
     "output_type": "stream",
     "text": [
      "6\n"
     ]
    }
   ],
   "source": [
    "summation(1,2,3)"
   ]
  },
  {
   "cell_type": "code",
   "execution_count": 26,
   "id": "e03112d3",
   "metadata": {},
   "outputs": [],
   "source": [
    "def return_summation(num1,num2,num3):\n",
    "    result = num1+num2+num3\n",
    "    print(result)\n",
    "    return result"
   ]
  },
  {
   "cell_type": "code",
   "execution_count": 27,
   "id": "980963e2",
   "metadata": {},
   "outputs": [
    {
     "name": "stdout",
     "output_type": "stream",
     "text": [
      "6\n"
     ]
    }
   ],
   "source": [
    "x = return_summation(1,2,3)"
   ]
  },
  {
   "cell_type": "code",
   "execution_count": 28,
   "id": "61ae633b",
   "metadata": {},
   "outputs": [
    {
     "data": {
      "text/plain": [
       "6"
      ]
     },
     "execution_count": 28,
     "metadata": {},
     "output_type": "execute_result"
    }
   ],
   "source": [
    "x"
   ]
  },
  {
   "cell_type": "code",
   "execution_count": 30,
   "id": "8774da05",
   "metadata": {},
   "outputs": [],
   "source": [
    "def control_string(s):\n",
    "    if s[0] == \"a\":\n",
    "        print(\"a\")"
   ]
  },
  {
   "cell_type": "code",
   "execution_count": 34,
   "id": "edae384f",
   "metadata": {},
   "outputs": [
    {
     "name": "stdout",
     "output_type": "stream",
     "text": [
      "a\n"
     ]
    }
   ],
   "source": [
    "control_string(\"ahmet\")"
   ]
  },
  {
   "cell_type": "code",
   "execution_count": 35,
   "id": "8cd5d0c9",
   "metadata": {},
   "outputs": [],
   "source": [
    "# args , kwargs(arguments , key word arguments)"
   ]
  },
  {
   "cell_type": "code",
   "execution_count": 45,
   "id": "e746a5e7",
   "metadata": {},
   "outputs": [],
   "source": [
    "def args_examp(*args):\n",
    "    return sum(args)"
   ]
  },
  {
   "cell_type": "code",
   "execution_count": 46,
   "id": "e55ace3c",
   "metadata": {},
   "outputs": [
    {
     "data": {
      "text/plain": [
       "145378776854183"
      ]
     },
     "execution_count": 46,
     "metadata": {},
     "output_type": "execute_result"
    }
   ],
   "source": [
    "args_examp(10,20,30,145224522154236,154254699887)"
   ]
  },
  {
   "cell_type": "code",
   "execution_count": 47,
   "id": "e0a8af8e",
   "metadata": {},
   "outputs": [],
   "source": [
    "def kwargs_examp(**kwargs):\n",
    "    print(kwargs)"
   ]
  },
  {
   "cell_type": "code",
   "execution_count": 50,
   "id": "8bcc4ffd",
   "metadata": {},
   "outputs": [
    {
     "name": "stdout",
     "output_type": "stream",
     "text": [
      "{'apple': 100, 'melon': 150}\n"
     ]
    }
   ],
   "source": [
    "kwargs_examp(apple = 100,melon = 150)"
   ]
  },
  {
   "cell_type": "code",
   "execution_count": 51,
   "id": "53847b79",
   "metadata": {},
   "outputs": [],
   "source": [
    "def kwargs_examp2(**kwargs):\n",
    "    if \"apple\" in kwargs:\n",
    "        print(\"applee\")\n",
    "    else:\n",
    "        print(\":(\")"
   ]
  },
  {
   "cell_type": "code",
   "execution_count": 52,
   "id": "5b8da642",
   "metadata": {},
   "outputs": [
    {
     "name": "stdout",
     "output_type": "stream",
     "text": [
      "applee\n"
     ]
    }
   ],
   "source": [
    "kwargs_examp2(apple = 10)"
   ]
  },
  {
   "cell_type": "code",
   "execution_count": 53,
   "id": "e639e088",
   "metadata": {},
   "outputs": [
    {
     "name": "stdout",
     "output_type": "stream",
     "text": [
      ":(\n"
     ]
    }
   ],
   "source": [
    "kwargs_examp2(banana = 10)"
   ]
  },
  {
   "cell_type": "code",
   "execution_count": null,
   "id": "6f3a1e55",
   "metadata": {},
   "outputs": [],
   "source": []
  }
 ],
 "metadata": {
  "kernelspec": {
   "display_name": "Python 3 (ipykernel)",
   "language": "python",
   "name": "python3"
  },
  "language_info": {
   "codemirror_mode": {
    "name": "ipython",
    "version": 3
   },
   "file_extension": ".py",
   "mimetype": "text/x-python",
   "name": "python",
   "nbconvert_exporter": "python",
   "pygments_lexer": "ipython3",
   "version": "3.11.5"
  }
 },
 "nbformat": 4,
 "nbformat_minor": 5
}
