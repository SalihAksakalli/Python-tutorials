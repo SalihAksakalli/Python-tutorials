{
 "cells": [
  {
   "cell_type": "code",
   "execution_count": 1,
   "id": "303baab3",
   "metadata": {},
   "outputs": [
    {
     "name": "stdout",
     "output_type": "stream",
     "text": [
      "hello World\n"
     ]
    }
   ],
   "source": [
    "print(\"hello World\")"
   ]
  },
  {
   "cell_type": "code",
   "execution_count": 2,
   "id": "6887a8e0",
   "metadata": {},
   "outputs": [
    {
     "data": {
      "text/plain": [
       "'hello World'"
      ]
     },
     "execution_count": 2,
     "metadata": {},
     "output_type": "execute_result"
    }
   ],
   "source": [
    "\"hello World\""
   ]
  },
  {
   "cell_type": "code",
   "execution_count": 3,
   "id": "60177f4a",
   "metadata": {},
   "outputs": [],
   "source": [
    "name = \"Salih Aksakalli\""
   ]
  },
  {
   "cell_type": "code",
   "execution_count": 4,
   "id": "a4af47f7",
   "metadata": {},
   "outputs": [
    {
     "data": {
      "text/plain": [
       "str"
      ]
     },
     "execution_count": 4,
     "metadata": {},
     "output_type": "execute_result"
    }
   ],
   "source": [
    "type(name)"
   ]
  },
  {
   "cell_type": "code",
   "execution_count": 18,
   "id": "0459bd57",
   "metadata": {
    "scrolled": true
   },
   "outputs": [
    {
     "name": "stdout",
     "output_type": "stream",
     "text": [
      "Help on built-in function capitalize:\n",
      "\n",
      "capitalize() method of builtins.str instance\n",
      "    Return a capitalized version of the string.\n",
      "    \n",
      "    More specifically, make the first character have upper case and the rest lower\n",
      "    case.\n",
      "\n"
     ]
    }
   ],
   "source": [
    "help(name.capitalize)"
   ]
  },
  {
   "cell_type": "code",
   "execution_count": 19,
   "id": "7cc98573",
   "metadata": {},
   "outputs": [
    {
     "data": {
      "text/plain": [
       "0"
      ]
     },
     "execution_count": 19,
     "metadata": {},
     "output_type": "execute_result"
    }
   ],
   "source": [
    "name.count(\"B\")"
   ]
  },
  {
   "cell_type": "code",
   "execution_count": 23,
   "id": "2a5f4893",
   "metadata": {},
   "outputs": [
    {
     "data": {
      "text/plain": [
       "'SALIH AKSAKALLI'"
      ]
     },
     "execution_count": 23,
     "metadata": {},
     "output_type": "execute_result"
    }
   ],
   "source": [
    "name.upper()"
   ]
  },
  {
   "cell_type": "code",
   "execution_count": 24,
   "id": "8d32766b",
   "metadata": {},
   "outputs": [
    {
     "data": {
      "text/plain": [
       "'Salih Aksakalli'"
      ]
     },
     "execution_count": 24,
     "metadata": {},
     "output_type": "execute_result"
    }
   ],
   "source": [
    "name"
   ]
  },
  {
   "cell_type": "code",
   "execution_count": 25,
   "id": "dfff0fa7",
   "metadata": {},
   "outputs": [],
   "source": [
    "# Return : Döndürmek, yeni bir değer vermek"
   ]
  },
  {
   "cell_type": "code",
   "execution_count": 30,
   "id": "a1847ff6",
   "metadata": {},
   "outputs": [
    {
     "data": {
      "text/plain": [
       "15"
      ]
     },
     "execution_count": 30,
     "metadata": {},
     "output_type": "execute_result"
    }
   ],
   "source": [
    "len(name)  #Length "
   ]
  },
  {
   "cell_type": "code",
   "execution_count": 31,
   "id": "d49f4f98",
   "metadata": {},
   "outputs": [
    {
     "name": "stdout",
     "output_type": "stream",
     "text": [
      "Salih \n",
      " Aksakalli\n"
     ]
    }
   ],
   "source": [
    "print(\"Salih \\n Aksakalli\")"
   ]
  },
  {
   "cell_type": "code",
   "execution_count": 32,
   "id": "917e2e2b",
   "metadata": {},
   "outputs": [],
   "source": [
    "# \\n ---> New Line"
   ]
  },
  {
   "cell_type": "code",
   "execution_count": 33,
   "id": "4c3fd753",
   "metadata": {},
   "outputs": [],
   "source": [
    "# \\t ---> Tab"
   ]
  },
  {
   "cell_type": "code",
   "execution_count": 34,
   "id": "240d799f",
   "metadata": {},
   "outputs": [
    {
     "name": "stdout",
     "output_type": "stream",
     "text": [
      "Salih \t Aksakalli\n"
     ]
    }
   ],
   "source": [
    "print(\"Salih \\t Aksakalli\")"
   ]
  },
  {
   "cell_type": "markdown",
   "id": "d8ff6093",
   "metadata": {},
   "source": [
    "## İndex"
   ]
  },
  {
   "cell_type": "code",
   "execution_count": 38,
   "id": "5032f6ec",
   "metadata": {},
   "outputs": [],
   "source": [
    "myString = \"Hello Python\""
   ]
  },
  {
   "cell_type": "code",
   "execution_count": 39,
   "id": "6d878d69",
   "metadata": {},
   "outputs": [
    {
     "data": {
      "text/plain": [
       "'Hello Python'"
      ]
     },
     "execution_count": 39,
     "metadata": {},
     "output_type": "execute_result"
    }
   ],
   "source": [
    "myString"
   ]
  },
  {
   "cell_type": "code",
   "execution_count": 40,
   "id": "5c185a7a",
   "metadata": {},
   "outputs": [
    {
     "data": {
      "text/plain": [
       "'o'"
      ]
     },
     "execution_count": 40,
     "metadata": {},
     "output_type": "execute_result"
    }
   ],
   "source": [
    "myString[4]"
   ]
  },
  {
   "cell_type": "code",
   "execution_count": 41,
   "id": "f9fc4245",
   "metadata": {},
   "outputs": [
    {
     "data": {
      "text/plain": [
       "'n'"
      ]
     },
     "execution_count": 41,
     "metadata": {},
     "output_type": "execute_result"
    }
   ],
   "source": [
    "myString[11]"
   ]
  },
  {
   "cell_type": "code",
   "execution_count": 43,
   "id": "652a631d",
   "metadata": {},
   "outputs": [],
   "source": [
    "myString = \"Salih Aksakalli\""
   ]
  },
  {
   "cell_type": "code",
   "execution_count": 45,
   "id": "d55828ad",
   "metadata": {},
   "outputs": [
    {
     "data": {
      "text/plain": [
       "15"
      ]
     },
     "execution_count": 45,
     "metadata": {},
     "output_type": "execute_result"
    }
   ],
   "source": [
    "len(myString)"
   ]
  },
  {
   "cell_type": "code",
   "execution_count": 47,
   "id": "06677367",
   "metadata": {},
   "outputs": [
    {
     "data": {
      "text/plain": [
       "'i'"
      ]
     },
     "execution_count": 47,
     "metadata": {},
     "output_type": "execute_result"
    }
   ],
   "source": [
    "myString[14]"
   ]
  },
  {
   "cell_type": "code",
   "execution_count": 1,
   "id": "55d1d5c6",
   "metadata": {},
   "outputs": [],
   "source": [
    "barcode = \"ABCDE123123982\""
   ]
  },
  {
   "cell_type": "code",
   "execution_count": 2,
   "id": "184921c9",
   "metadata": {},
   "outputs": [
    {
     "data": {
      "text/plain": [
       "'D'"
      ]
     },
     "execution_count": 2,
     "metadata": {},
     "output_type": "execute_result"
    }
   ],
   "source": [
    "barcode[3]"
   ]
  },
  {
   "cell_type": "code",
   "execution_count": 3,
   "id": "099f8fc0",
   "metadata": {},
   "outputs": [
    {
     "data": {
      "text/plain": [
       "'AB'"
      ]
     },
     "execution_count": 3,
     "metadata": {},
     "output_type": "execute_result"
    }
   ],
   "source": [
    "\"A\"+\"B\""
   ]
  },
  {
   "cell_type": "code",
   "execution_count": 4,
   "id": "85f9b3a2",
   "metadata": {},
   "outputs": [],
   "source": [
    "name = \"Salih\"\n",
    "surname = \"Aksakalli\""
   ]
  },
  {
   "cell_type": "code",
   "execution_count": 5,
   "id": "eb83b2ba",
   "metadata": {},
   "outputs": [],
   "source": [
    "fullname = name + \" \" + surname"
   ]
  },
  {
   "cell_type": "code",
   "execution_count": 6,
   "id": "19a23d9b",
   "metadata": {},
   "outputs": [
    {
     "data": {
      "text/plain": [
       "'Salih AksakalliSalih AksakalliSalih AksakalliSalih AksakalliSalih Aksakalli'"
      ]
     },
     "execution_count": 6,
     "metadata": {},
     "output_type": "execute_result"
    }
   ],
   "source": [
    "fullname*5"
   ]
  },
  {
   "cell_type": "code",
   "execution_count": 7,
   "id": "e1ae46eb",
   "metadata": {},
   "outputs": [
    {
     "data": {
      "text/plain": [
       "'ABD'"
      ]
     },
     "execution_count": 7,
     "metadata": {},
     "output_type": "execute_result"
    }
   ],
   "source": [
    "barcode[0]+barcode[1]+barcode[3]"
   ]
  },
  {
   "cell_type": "code",
   "execution_count": 9,
   "id": "fd08f3b5",
   "metadata": {},
   "outputs": [],
   "source": [
    "#slicing,starting index ,stopping index ,stepping size"
   ]
  },
  {
   "cell_type": "code",
   "execution_count": 13,
   "id": "7bfb500e",
   "metadata": {},
   "outputs": [],
   "source": [
    "#barcode[starting index:stopping index:stepping size]"
   ]
  },
  {
   "cell_type": "code",
   "execution_count": 14,
   "id": "cbe12b1f",
   "metadata": {},
   "outputs": [
    {
     "data": {
      "text/plain": [
       "'DE123123982'"
      ]
     },
     "execution_count": 14,
     "metadata": {},
     "output_type": "execute_result"
    }
   ],
   "source": [
    "barcode[3::]"
   ]
  },
  {
   "cell_type": "code",
   "execution_count": 15,
   "id": "9296cad0",
   "metadata": {},
   "outputs": [
    {
     "data": {
      "text/plain": [
       "'ABC'"
      ]
     },
     "execution_count": 15,
     "metadata": {},
     "output_type": "execute_result"
    }
   ],
   "source": [
    "barcode[:3:] "
   ]
  },
  {
   "cell_type": "code",
   "execution_count": 16,
   "id": "6746e8e5",
   "metadata": {},
   "outputs": [
    {
     "data": {
      "text/plain": [
       "'ACE2138'"
      ]
     },
     "execution_count": 16,
     "metadata": {},
     "output_type": "execute_result"
    }
   ],
   "source": [
    "barcode[::2] "
   ]
  },
  {
   "cell_type": "code",
   "execution_count": 19,
   "id": "ffa9ecb6",
   "metadata": {},
   "outputs": [
    {
     "data": {
      "text/plain": [
       "'DE'"
      ]
     },
     "execution_count": 19,
     "metadata": {},
     "output_type": "execute_result"
    }
   ],
   "source": [
    "barcode[3:5:] "
   ]
  },
  {
   "cell_type": "code",
   "execution_count": 20,
   "id": "6ab2db92",
   "metadata": {},
   "outputs": [
    {
     "data": {
      "text/plain": [
       "'289321321EDCBA'"
      ]
     },
     "execution_count": 20,
     "metadata": {},
     "output_type": "execute_result"
    }
   ],
   "source": [
    "barcode[::-1] "
   ]
  },
  {
   "cell_type": "code",
   "execution_count": 21,
   "id": "d5afe211",
   "metadata": {},
   "outputs": [],
   "source": [
    "name = \"Salih Aksakalli\""
   ]
  },
  {
   "cell_type": "code",
   "execution_count": 23,
   "id": "ad19ad41",
   "metadata": {},
   "outputs": [
    {
     "data": {
      "text/plain": [
       "0"
      ]
     },
     "execution_count": 23,
     "metadata": {},
     "output_type": "execute_result"
    }
   ],
   "source": [
    "name.index(\"S\")"
   ]
  },
  {
   "cell_type": "code",
   "execution_count": 24,
   "id": "445427e7",
   "metadata": {},
   "outputs": [
    {
     "data": {
      "text/plain": [
       "['Salih', 'Aksakalli']"
      ]
     },
     "execution_count": 24,
     "metadata": {},
     "output_type": "execute_result"
    }
   ],
   "source": [
    "name.split()"
   ]
  },
  {
   "cell_type": "code",
   "execution_count": 25,
   "id": "c05e293a",
   "metadata": {},
   "outputs": [
    {
     "data": {
      "text/plain": [
       "list"
      ]
     },
     "execution_count": 25,
     "metadata": {},
     "output_type": "execute_result"
    }
   ],
   "source": [
    "type(name.split())"
   ]
  },
  {
   "cell_type": "code",
   "execution_count": null,
   "id": "b853a86b",
   "metadata": {},
   "outputs": [],
   "source": []
  }
 ],
 "metadata": {
  "kernelspec": {
   "display_name": "Python 3 (ipykernel)",
   "language": "python",
   "name": "python3"
  },
  "language_info": {
   "codemirror_mode": {
    "name": "ipython",
    "version": 3
   },
   "file_extension": ".py",
   "mimetype": "text/x-python",
   "name": "python",
   "nbconvert_exporter": "python",
   "pygments_lexer": "ipython3",
   "version": "3.11.4"
  }
 },
 "nbformat": 4,
 "nbformat_minor": 5
}
