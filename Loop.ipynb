{
 "cells": [
  {
   "cell_type": "code",
   "execution_count": 1,
   "id": "ee8e6182",
   "metadata": {},
   "outputs": [],
   "source": [
    "# For loop,While loop "
   ]
  },
  {
   "cell_type": "code",
   "execution_count": 2,
   "id": "06e4c58a",
   "metadata": {},
   "outputs": [],
   "source": [
    "# For loop"
   ]
  },
  {
   "cell_type": "code",
   "execution_count": 3,
   "id": "9a35133f",
   "metadata": {},
   "outputs": [],
   "source": [
    "myList = [10,20,30,40,50,60]"
   ]
  },
  {
   "cell_type": "code",
   "execution_count": 4,
   "id": "74150f19",
   "metadata": {},
   "outputs": [
    {
     "data": {
      "text/plain": [
       "4.0"
      ]
     },
     "execution_count": 4,
     "metadata": {},
     "output_type": "execute_result"
    }
   ],
   "source": [
    "myList[0]/5*2"
   ]
  },
  {
   "cell_type": "code",
   "execution_count": 5,
   "id": "06600a91",
   "metadata": {},
   "outputs": [
    {
     "name": "stdout",
     "output_type": "stream",
     "text": [
      "4.0\n",
      "8.0\n",
      "12.0\n",
      "16.0\n",
      "20.0\n",
      "24.0\n"
     ]
    }
   ],
   "source": [
    "for num in myList:\n",
    "    print(num /5 * 2)"
   ]
  },
  {
   "cell_type": "code",
   "execution_count": 6,
   "id": "38a47b04",
   "metadata": {},
   "outputs": [
    {
     "name": "stdout",
     "output_type": "stream",
     "text": [
      "for loop started\n",
      "4.0\n",
      "8.0\n",
      "12.0\n",
      "16.0\n",
      "20.0\n",
      "24.0\n",
      "for loop ended\n"
     ]
    }
   ],
   "source": [
    "print(\"for loop started\")\n",
    "for x in myList:\n",
    "    new_number = x / 5 * 2\n",
    "    print(new_number)\n",
    "print(\"for loop ended\")"
   ]
  },
  {
   "cell_type": "code",
   "execution_count": 7,
   "id": "dea09f19",
   "metadata": {},
   "outputs": [],
   "source": [
    "myList = [10,20,30,40,50,60]"
   ]
  },
  {
   "cell_type": "code",
   "execution_count": 8,
   "id": "203d856b",
   "metadata": {},
   "outputs": [
    {
     "name": "stdout",
     "output_type": "stream",
     "text": [
      "30\n",
      "60\n"
     ]
    }
   ],
   "source": [
    "for i in myList:\n",
    "    if i%6 == 0:\n",
    "        print(i)"
   ]
  },
  {
   "cell_type": "code",
   "execution_count": 9,
   "id": "56bf7bf8",
   "metadata": {},
   "outputs": [],
   "source": [
    "my_set = {1,2,3,4,5}"
   ]
  },
  {
   "cell_type": "code",
   "execution_count": 10,
   "id": "77293584",
   "metadata": {},
   "outputs": [
    {
     "data": {
      "text/plain": [
       "5"
      ]
     },
     "execution_count": 10,
     "metadata": {},
     "output_type": "execute_result"
    }
   ],
   "source": [
    "len(my_set)"
   ]
  },
  {
   "cell_type": "code",
   "execution_count": 11,
   "id": "d416fe04",
   "metadata": {},
   "outputs": [
    {
     "data": {
      "text/plain": [
       "set"
      ]
     },
     "execution_count": 11,
     "metadata": {},
     "output_type": "execute_result"
    }
   ],
   "source": [
    "type(my_set)"
   ]
  },
  {
   "cell_type": "code",
   "execution_count": 12,
   "id": "b0c2cea3",
   "metadata": {},
   "outputs": [
    {
     "name": "stdout",
     "output_type": "stream",
     "text": [
      "1\n",
      "2\n",
      "3\n",
      "4\n",
      "5\n"
     ]
    }
   ],
   "source": [
    "for num in my_set:\n",
    "    print(num)"
   ]
  },
  {
   "cell_type": "code",
   "execution_count": 13,
   "id": "ee3aa266",
   "metadata": {},
   "outputs": [],
   "source": [
    "my_dict = {\"k1\" : 100 , \"k2\": 200 , \"k3\": 300}"
   ]
  },
  {
   "cell_type": "code",
   "execution_count": 14,
   "id": "c779da27",
   "metadata": {},
   "outputs": [
    {
     "name": "stdout",
     "output_type": "stream",
     "text": [
      "k1\n",
      "k2\n",
      "k3\n"
     ]
    }
   ],
   "source": [
    "for element in my_dict:\n",
    "    print(element)"
   ]
  },
  {
   "cell_type": "code",
   "execution_count": 15,
   "id": "6a2f0a6c",
   "metadata": {},
   "outputs": [
    {
     "name": "stdout",
     "output_type": "stream",
     "text": [
      "100\n",
      "200\n",
      "300\n"
     ]
    }
   ],
   "source": [
    "for (key,value) in my_dict.items():\n",
    "    print(value)"
   ]
  },
  {
   "cell_type": "code",
   "execution_count": 16,
   "id": "3c71c95b",
   "metadata": {},
   "outputs": [
    {
     "name": "stdout",
     "output_type": "stream",
     "text": [
      "100\n",
      "200\n",
      "300\n"
     ]
    }
   ],
   "source": [
    "for num  in my_dict.values():\n",
    "    print(num)"
   ]
  },
  {
   "cell_type": "code",
   "execution_count": 17,
   "id": "317ae225",
   "metadata": {},
   "outputs": [],
   "source": [
    "# contiune - break - pass"
   ]
  },
  {
   "cell_type": "code",
   "execution_count": 18,
   "id": "66e1a3ef",
   "metadata": {},
   "outputs": [],
   "source": [
    "myList.append(70)"
   ]
  },
  {
   "cell_type": "code",
   "execution_count": 19,
   "id": "d633e441",
   "metadata": {},
   "outputs": [
    {
     "data": {
      "text/plain": [
       "[10, 20, 30, 40, 50, 60, 70]"
      ]
     },
     "execution_count": 19,
     "metadata": {},
     "output_type": "execute_result"
    }
   ],
   "source": [
    "myList"
   ]
  },
  {
   "cell_type": "code",
   "execution_count": 20,
   "id": "0a203667",
   "metadata": {},
   "outputs": [
    {
     "name": "stdout",
     "output_type": "stream",
     "text": [
      "10\n",
      "20\n",
      "30\n",
      "40\n",
      "Yes\n"
     ]
    }
   ],
   "source": [
    "for  number in myList:\n",
    "    print(number)\n",
    "    if number == 40:\n",
    "        print(\"Yes\")\n",
    "        break"
   ]
  },
  {
   "cell_type": "code",
   "execution_count": 21,
   "id": "574c37cf",
   "metadata": {},
   "outputs": [],
   "source": [
    "myList = [10,20,30,40,50,60,70]"
   ]
  },
  {
   "cell_type": "code",
   "execution_count": 22,
   "id": "48dbb938",
   "metadata": {},
   "outputs": [
    {
     "name": "stdout",
     "output_type": "stream",
     "text": [
      "10\n",
      "20\n",
      "30\n",
      "50\n",
      "60\n",
      "70\n"
     ]
    }
   ],
   "source": [
    "for  number in myList:\n",
    "    if number == 40:\n",
    "        continue\n",
    "    print(number)"
   ]
  },
  {
   "cell_type": "code",
   "execution_count": 23,
   "id": "2e8cae98",
   "metadata": {},
   "outputs": [],
   "source": [
    "for number in myList:\n",
    "    pass"
   ]
  },
  {
   "cell_type": "code",
   "execution_count": 24,
   "id": "a01c88d6",
   "metadata": {},
   "outputs": [],
   "source": [
    "#while"
   ]
  },
  {
   "cell_type": "code",
   "execution_count": 25,
   "id": "c85d5c42",
   "metadata": {},
   "outputs": [],
   "source": [
    "x = 0 "
   ]
  },
  {
   "cell_type": "code",
   "execution_count": 26,
   "id": "5a8daace",
   "metadata": {},
   "outputs": [
    {
     "name": "stdout",
     "output_type": "stream",
     "text": [
      "While loop started\n",
      "0\n",
      "1\n",
      "2\n",
      "3\n",
      "4\n",
      "5\n",
      "6\n",
      "7\n",
      "8\n",
      "9\n",
      "While loop ended\n"
     ]
    }
   ],
   "source": [
    "print(\"While loop started\")\n",
    "while x<10:\n",
    "    print(x)\n",
    "    x = x + 1\n",
    "print(\"While loop ended\")"
   ]
  },
  {
   "cell_type": "code",
   "execution_count": 27,
   "id": "8bbecab4",
   "metadata": {},
   "outputs": [],
   "source": [
    "lasList = [10,20,30,40,50]"
   ]
  },
  {
   "cell_type": "code",
   "execution_count": 28,
   "id": "c94f9c85",
   "metadata": {},
   "outputs": [
    {
     "name": "stdout",
     "output_type": "stream",
     "text": [
      "20 in lasList\n",
      "20 in lasList\n",
      "20 in lasList\n",
      "20 in lasList\n"
     ]
    }
   ],
   "source": [
    "while 20 in lasList:\n",
    "    print(\"20 in lasList\")\n",
    "    lasList.pop()"
   ]
  },
  {
   "cell_type": "code",
   "execution_count": 29,
   "id": "9473d968",
   "metadata": {},
   "outputs": [],
   "source": [
    "lastasList = [10,20,30,40,50,60,75]"
   ]
  },
  {
   "cell_type": "code",
   "execution_count": 30,
   "id": "0c9d48fa",
   "metadata": {},
   "outputs": [
    {
     "name": "stdout",
     "output_type": "stream",
     "text": [
      "[10, 20, 30, 40, 50, 60, 75]\n"
     ]
    }
   ],
   "source": [
    "print(lastasList)"
   ]
  },
  {
   "cell_type": "code",
   "execution_count": 31,
   "id": "b5c601c7",
   "metadata": {},
   "outputs": [
    {
     "name": "stdout",
     "output_type": "stream",
     "text": [
      "son Listemiz : [10, 20, 30, 40, 50, 60, 75]\n"
     ]
    }
   ],
   "source": [
    "print(f\"son Listemiz : {lastasList}\")"
   ]
  },
  {
   "cell_type": "code",
   "execution_count": 32,
   "id": "3eef36ec",
   "metadata": {},
   "outputs": [
    {
     "name": "stdout",
     "output_type": "stream",
     "text": [
      "enter name salih \n"
     ]
    }
   ],
   "source": [
    "name = input(\"enter name \")"
   ]
  },
  {
   "cell_type": "code",
   "execution_count": 35,
   "id": "646fff1c",
   "metadata": {},
   "outputs": [
    {
     "name": "stdout",
     "output_type": "stream",
     "text": [
      " welcome  salih \n"
     ]
    }
   ],
   "source": [
    "print(f\" welcome  {name}\")"
   ]
  },
  {
   "cell_type": "code",
   "execution_count": 36,
   "id": "76034274",
   "metadata": {},
   "outputs": [
    {
     "name": "stdout",
     "output_type": "stream",
     "text": [
      "welcome salih \n"
     ]
    }
   ],
   "source": [
    "print(\"welcome\",name)"
   ]
  },
  {
   "cell_type": "code",
   "execution_count": 37,
   "id": "5afb4f50",
   "metadata": {},
   "outputs": [
    {
     "name": "stdout",
     "output_type": "stream",
     "text": [
      "value of p : 0\n",
      "value of p : 1\n",
      "value of p : 2\n",
      "value of p : 3\n",
      "value of p : 4\n",
      "value of p : 5\n",
      "value of p : 6\n",
      "value of p : 7\n",
      "value of p : 8\n",
      "value of p : 9\n",
      "value of p : 10\n",
      "value of p : 11\n",
      "value of p : 12\n",
      "value of p : 13\n",
      "value of p : 14\n",
      "value of p : 15\n",
      "value of p : 16\n",
      "value of p : 17\n",
      "value of p : 18\n",
      "value of p : 19\n"
     ]
    }
   ],
   "source": [
    "p = 0 \n",
    "while p<20:\n",
    "    print(f\"value of p : {p}\")\n",
    "    p += 1 "
   ]
  },
  {
   "cell_type": "code",
   "execution_count": null,
   "id": "74207a27",
   "metadata": {},
   "outputs": [],
   "source": []
  }
 ],
 "metadata": {
  "kernelspec": {
   "display_name": "Python 3 (ipykernel)",
   "language": "python",
   "name": "python3"
  },
  "language_info": {
   "codemirror_mode": {
    "name": "ipython",
    "version": 3
   },
   "file_extension": ".py",
   "mimetype": "text/x-python",
   "name": "python",
   "nbconvert_exporter": "python",
   "pygments_lexer": "ipython3",
   "version": "3.11.4"
  }
 },
 "nbformat": 4,
 "nbformat_minor": 5
}
