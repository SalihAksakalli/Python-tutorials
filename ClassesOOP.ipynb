{
 "cells": [
  {
   "cell_type": "code",
   "execution_count": 1,
   "id": "67a8ad90-cc04-47d9-a000-89939ccdb78f",
   "metadata": {},
   "outputs": [],
   "source": [
    "class Person():\n",
    "    #property \n",
    "    #name = \"\"\n",
    "    #age = 0\n",
    "    #gender = \"male\"\n",
    "\n",
    "\n",
    "    #initializer method \n",
    "    def __init__(self,name,age,gender):\n",
    "        self.name = name\n",
    "        self.age = age\n",
    "        self.gender = gender"
   ]
  },
  {
   "cell_type": "code",
   "execution_count": 2,
   "id": "4744bbf4-aa21-41a2-9862-55f14aa14cee",
   "metadata": {},
   "outputs": [],
   "source": [
    "salih = Person(\"Salih\", 21,\"Male\")"
   ]
  },
  {
   "cell_type": "code",
   "execution_count": 3,
   "id": "09aacb2b-5050-4f84-817d-a53dcd232911",
   "metadata": {},
   "outputs": [
    {
     "data": {
      "text/plain": [
       "__main__.Person"
      ]
     },
     "execution_count": 3,
     "metadata": {},
     "output_type": "execute_result"
    }
   ],
   "source": [
    "type(salih)"
   ]
  },
  {
   "cell_type": "code",
   "execution_count": 4,
   "id": "dba824b6-9b6f-4774-be26-b8db0bebebd8",
   "metadata": {},
   "outputs": [
    {
     "data": {
      "text/plain": [
       "'Salih'"
      ]
     },
     "execution_count": 4,
     "metadata": {},
     "output_type": "execute_result"
    }
   ],
   "source": [
    "salih.name"
   ]
  },
  {
   "cell_type": "code",
   "execution_count": 5,
   "id": "04172beb-515c-4829-a2aa-25ef994967b2",
   "metadata": {},
   "outputs": [
    {
     "data": {
      "text/plain": [
       "21"
      ]
     },
     "execution_count": 5,
     "metadata": {},
     "output_type": "execute_result"
    }
   ],
   "source": [
    "salih.age"
   ]
  },
  {
   "cell_type": "code",
   "execution_count": 6,
   "id": "97a487b7-c8ca-4597-98b4-c741b9811469",
   "metadata": {},
   "outputs": [
    {
     "data": {
      "text/plain": [
       "'Male'"
      ]
     },
     "execution_count": 6,
     "metadata": {},
     "output_type": "execute_result"
    }
   ],
   "source": [
    "salih.gender"
   ]
  },
  {
   "cell_type": "code",
   "execution_count": 7,
   "id": "b9a7fc0d-e4de-4801-8d68-9d78cafa71af",
   "metadata": {},
   "outputs": [],
   "source": [
    "class Dog():\n",
    "    year = 7\n",
    "    def __init__(self,age):\n",
    "        self.age = age\n",
    "\n",
    "    def humanAge(self):\n",
    "        return self.age * self.year #Dog.year"
   ]
  },
  {
   "cell_type": "code",
   "execution_count": 8,
   "id": "63cfd15a-7c75-4d05-920f-3c8227642dd0",
   "metadata": {},
   "outputs": [],
   "source": [
    "myDog =  Dog(3)"
   ]
  },
  {
   "cell_type": "code",
   "execution_count": 9,
   "id": "5072cd3b-4cff-4990-a191-21c84b4671c3",
   "metadata": {},
   "outputs": [
    {
     "data": {
      "text/plain": [
       "3"
      ]
     },
     "execution_count": 9,
     "metadata": {},
     "output_type": "execute_result"
    }
   ],
   "source": [
    "myDog.age"
   ]
  },
  {
   "cell_type": "code",
   "execution_count": 10,
   "id": "dbb07703-e5b2-4e2f-b5a1-7c669554f591",
   "metadata": {},
   "outputs": [
    {
     "data": {
      "text/plain": [
       "21"
      ]
     },
     "execution_count": 10,
     "metadata": {},
     "output_type": "execute_result"
    }
   ],
   "source": [
    "myDog.humanAge()"
   ]
  },
  {
   "cell_type": "markdown",
   "id": "e75009ca-fb80-42e7-9baf-f2d5db543771",
   "metadata": {},
   "source": [
    "# inheritance "
   ]
  },
  {
   "cell_type": "code",
   "execution_count": 11,
   "id": "bd1c0e12-5561-4231-b084-c5f428800f82",
   "metadata": {},
   "outputs": [],
   "source": [
    "class Musician():\n",
    "    def __init__(self,name):\n",
    "        self.name = name\n",
    "        print(\"Musician class\")\n",
    "\n",
    "    def tets1(self):\n",
    "        print(\"test1\")\n",
    "    def test2(self):\n",
    "        print(\"test2\")"
   ]
  },
  {
   "cell_type": "code",
   "execution_count": 12,
   "id": "336f44a4-955a-44c3-a2c7-042557856d70",
   "metadata": {},
   "outputs": [
    {
     "name": "stdout",
     "output_type": "stream",
     "text": [
      "Musician class\n"
     ]
    }
   ],
   "source": [
    "salih = Musician(\"Salih\")"
   ]
  },
  {
   "cell_type": "code",
   "execution_count": 13,
   "id": "3030f0e4-d4d8-4b87-b711-5e70336bbcb4",
   "metadata": {},
   "outputs": [
    {
     "name": "stdout",
     "output_type": "stream",
     "text": [
      "test1\n"
     ]
    }
   ],
   "source": [
    "salih.tets1()"
   ]
  },
  {
   "cell_type": "code",
   "execution_count": 14,
   "id": "31e7807c-0789-4bf7-a8de-1643490db86a",
   "metadata": {},
   "outputs": [
    {
     "data": {
      "text/plain": [
       "'Salih'"
      ]
     },
     "execution_count": 14,
     "metadata": {},
     "output_type": "execute_result"
    }
   ],
   "source": [
    "salih.name"
   ]
  },
  {
   "cell_type": "code",
   "execution_count": 15,
   "id": "ef8b66f1-0527-4899-9df2-022b1f7f5844",
   "metadata": {},
   "outputs": [],
   "source": [
    "class MusicianPlus(Musician):\n",
    "    def __init__(self,name):\n",
    "        Musician.__init__(self,name)\n",
    "        print(\"musician plus\")"
   ]
  },
  {
   "cell_type": "code",
   "execution_count": 16,
   "id": "fae0f685-8b14-49eb-95eb-a7c0dae5065a",
   "metadata": {},
   "outputs": [
    {
     "name": "stdout",
     "output_type": "stream",
     "text": [
      "Musician class\n",
      "musician plus\n"
     ]
    }
   ],
   "source": [
    "Salih = MusicianPlus(\"Salih\")"
   ]
  },
  {
   "cell_type": "markdown",
   "id": "faab0aa1-a093-4287-8ed5-047b4f33473f",
   "metadata": {},
   "source": [
    "# Polymorphisim"
   ]
  },
  {
   "cell_type": "code",
   "execution_count": 20,
   "id": "392b4fe2-ec0a-48a1-b357-01ef033baad1",
   "metadata": {},
   "outputs": [],
   "source": [
    "class Banana():\n",
    "    def __init__(self,name):\n",
    "        self.name = name \n",
    "    def info(self):\n",
    "        return f\" 100 calories {self.name}\"\n",
    "        \n",
    "class Apple():\n",
    "    def __init__(self,name):\n",
    "        self.name = name \n",
    "    def info(self):\n",
    "        return f\" 150 calories {self.name}\""
   ]
  },
  {
   "cell_type": "code",
   "execution_count": 30,
   "id": "46c5429e-c79c-42cc-8659-b945fe73638d",
   "metadata": {},
   "outputs": [],
   "source": [
    "banana  = Banana(\"banana\")"
   ]
  },
  {
   "cell_type": "code",
   "execution_count": 31,
   "id": "3180e5bb-e6a4-40b1-8225-005e29b96595",
   "metadata": {},
   "outputs": [],
   "source": [
    "apple = Apple(\"apple\")"
   ]
  },
  {
   "cell_type": "code",
   "execution_count": 32,
   "id": "8f36c1cc-3b13-4ec9-84ee-1ecadd123863",
   "metadata": {},
   "outputs": [
    {
     "data": {
      "text/plain": [
       "' 100 calories banana'"
      ]
     },
     "execution_count": 32,
     "metadata": {},
     "output_type": "execute_result"
    }
   ],
   "source": [
    "banana.info()"
   ]
  },
  {
   "cell_type": "code",
   "execution_count": 34,
   "id": "d095fab5-7bcc-4886-a0f6-17cb9e595764",
   "metadata": {},
   "outputs": [
    {
     "data": {
      "text/plain": [
       "' 150 calories apple'"
      ]
     },
     "execution_count": 34,
     "metadata": {},
     "output_type": "execute_result"
    }
   ],
   "source": [
    "apple.info()"
   ]
  },
  {
   "cell_type": "code",
   "execution_count": 36,
   "id": "f91d0eac-ae66-4505-ba76-435c35ff1b14",
   "metadata": {},
   "outputs": [],
   "source": [
    "fruitList = [apple,banana]"
   ]
  },
  {
   "cell_type": "code",
   "execution_count": 37,
   "id": "029e5916-bb95-438d-925b-f5b5fece8a5c",
   "metadata": {},
   "outputs": [
    {
     "name": "stdout",
     "output_type": "stream",
     "text": [
      " 150 calories apple\n",
      " 100 calories banana\n"
     ]
    }
   ],
   "source": [
    "for fruit in fruitList :\n",
    "    print(fruit.info())"
   ]
  },
  {
   "cell_type": "markdown",
   "id": "faf03929-7dde-4f2c-a2d9-8c7d0a249d87",
   "metadata": {},
   "source": [
    "# Encapsulation"
   ]
  },
  {
   "cell_type": "code",
   "execution_count": 49,
   "id": "61e2a24e-e8fa-41dd-a41f-fe11ed13dd0a",
   "metadata": {},
   "outputs": [],
   "source": [
    " class Phone():\n",
    "    def __init__(self,name,price):\n",
    "         self.name = name \n",
    "         self.__price = price\n",
    "    \n",
    "    def info(self):\n",
    "        print(f\"{self.name} price is : {self.__price}\")\n",
    "\n",
    "\n",
    "    def changePrice(self,price):\n",
    "        self.__price = price"
   ]
  },
  {
   "cell_type": "code",
   "execution_count": 50,
   "id": "809ee37d-8401-475f-a905-a9062b5739d4",
   "metadata": {},
   "outputs": [],
   "source": [
    "iphone =  Phone(\"iphone 14\",500)"
   ]
  },
  {
   "cell_type": "code",
   "execution_count": 51,
   "id": "700e4b21-fcef-441d-847f-8019ff3afaad",
   "metadata": {},
   "outputs": [
    {
     "name": "stdout",
     "output_type": "stream",
     "text": [
      "iphone 14 price is : 500\n"
     ]
    }
   ],
   "source": [
    "iphone.info()"
   ]
  },
  {
   "cell_type": "code",
   "execution_count": 52,
   "id": "e930025e-5a28-4f4d-8444-99661842f27c",
   "metadata": {},
   "outputs": [],
   "source": [
    "iphone.price = 400"
   ]
  },
  {
   "cell_type": "code",
   "execution_count": 53,
   "id": "f4065f19-a85f-4215-885a-b49ad942e645",
   "metadata": {},
   "outputs": [
    {
     "name": "stdout",
     "output_type": "stream",
     "text": [
      "iphone 14 price is : 500\n"
     ]
    }
   ],
   "source": [
    "iphone.info()"
   ]
  },
  {
   "cell_type": "code",
   "execution_count": 54,
   "id": "c8587f47-0feb-44b9-8cd4-67cd2659d1b8",
   "metadata": {},
   "outputs": [],
   "source": [
    "iphone.changePrice(1000)"
   ]
  },
  {
   "cell_type": "code",
   "execution_count": 55,
   "id": "b9e70bc9-f3ea-46f4-bbfb-718c7f0f7a7e",
   "metadata": {},
   "outputs": [
    {
     "name": "stdout",
     "output_type": "stream",
     "text": [
      "iphone 14 price is : 1000\n"
     ]
    }
   ],
   "source": [
    "iphone.info()"
   ]
  },
  {
   "cell_type": "markdown",
   "id": "0d89c0ff-7ad0-4602-9c29-3e1ae063c46e",
   "metadata": {},
   "source": [
    "# Abstraction "
   ]
  },
  {
   "cell_type": "code",
   "execution_count": 56,
   "id": "b9dd69fe-db86-43d3-aa4b-2217aa687185",
   "metadata": {},
   "outputs": [],
   "source": [
    "from  abc import ABC, abstractmethod"
   ]
  },
  {
   "cell_type": "code",
   "execution_count": 65,
   "id": "dd143ec7-f96d-4614-8942-3ca5d5b9d8ea",
   "metadata": {},
   "outputs": [],
   "source": [
    "class Car(ABC):\n",
    "    @abstractmethod\n",
    "    def maxSpeed(self):\n",
    "        pass"
   ]
  },
  {
   "cell_type": "code",
   "execution_count": 66,
   "id": "ae42653e-7582-4ecf-bb39-25a6e5f0d25d",
   "metadata": {},
   "outputs": [],
   "source": [
    "class Tesla(Car):\n",
    "    def maxSpeed(self):\n",
    "        print(\"200km\")"
   ]
  },
  {
   "cell_type": "code",
   "execution_count": 67,
   "id": "38a72c82-8414-4da5-a7cb-72b78804d551",
   "metadata": {},
   "outputs": [],
   "source": [
    "tesla = Tesla()"
   ]
  },
  {
   "cell_type": "code",
   "execution_count": 68,
   "id": "b57382d7-44df-4594-9807-73773d7d626a",
   "metadata": {},
   "outputs": [
    {
     "name": "stdout",
     "output_type": "stream",
     "text": [
      "200km\n"
     ]
    }
   ],
   "source": [
    "tesla.maxSpeed()"
   ]
  },
  {
   "cell_type": "code",
   "execution_count": 69,
   "id": "8f21a731-f22e-428d-a990-4f6ee6e2fd6b",
   "metadata": {},
   "outputs": [],
   "source": [
    "class Mercedes(Car):\n",
    "    def maxSpeed(self):\n",
    "        print(\"500km\")\n"
   ]
  },
  {
   "cell_type": "code",
   "execution_count": 72,
   "id": "bdce13e9-8144-4fe7-bbaa-d046ab6cc55e",
   "metadata": {},
   "outputs": [],
   "source": [
    "mercedes = Mercedes()"
   ]
  },
  {
   "cell_type": "code",
   "execution_count": 73,
   "id": "0c974745-9d94-4b20-bfc0-7068a9c892a6",
   "metadata": {},
   "outputs": [
    {
     "name": "stdout",
     "output_type": "stream",
     "text": [
      "500km\n"
     ]
    }
   ],
   "source": [
    "mercedes.maxSpeed()"
   ]
  },
  {
   "cell_type": "code",
   "execution_count": 74,
   "id": "c807898e-7f6a-43fa-8ea5-b908b02a2ac4",
   "metadata": {},
   "outputs": [],
   "source": [
    "class Fruit():\n",
    "    def __init__(self,name,calories):\n",
    "        self.name = name\n",
    "        self.calories = calories"
   ]
  },
  {
   "cell_type": "code",
   "execution_count": null,
   "id": "4199727a-bc18-4f90-925c-9573dd56d55c",
   "metadata": {},
   "outputs": [],
   "source": [
    "myFruiyt  "
   ]
  }
 ],
 "metadata": {
  "kernelspec": {
   "display_name": "Python 3 (ipykernel)",
   "language": "python",
   "name": "python3"
  },
  "language_info": {
   "codemirror_mode": {
    "name": "ipython",
    "version": 3
   },
   "file_extension": ".py",
   "mimetype": "text/x-python",
   "name": "python",
   "nbconvert_exporter": "python",
   "pygments_lexer": "ipython3",
   "version": "3.11.5"
  }
 },
 "nbformat": 4,
 "nbformat_minor": 5
}
