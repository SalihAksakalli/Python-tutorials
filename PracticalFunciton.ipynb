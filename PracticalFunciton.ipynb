{
 "cells": [
  {
   "cell_type": "code",
   "execution_count": 1,
   "id": "a1d70ad5",
   "metadata": {},
   "outputs": [],
   "source": [
    "def ddivide(num):\n",
    "    return num/2"
   ]
  },
  {
   "cell_type": "code",
   "execution_count": 2,
   "id": "b76729f7",
   "metadata": {},
   "outputs": [
    {
     "data": {
      "text/plain": [
       "10.0"
      ]
     },
     "execution_count": 2,
     "metadata": {},
     "output_type": "execute_result"
    }
   ],
   "source": [
    "ddivide(20)"
   ]
  },
  {
   "cell_type": "code",
   "execution_count": 3,
   "id": "d1ef0a72",
   "metadata": {},
   "outputs": [],
   "source": [
    "myList = [3,5,7,10,20,30]\n",
    "myResultList = []"
   ]
  },
  {
   "cell_type": "code",
   "execution_count": 4,
   "id": "f89e5d55",
   "metadata": {},
   "outputs": [
    {
     "name": "stdout",
     "output_type": "stream",
     "text": [
      "[1.5, 2.5, 3.5, 5.0, 10.0, 15.0]\n"
     ]
    }
   ],
   "source": [
    "for num in myList:\n",
    "    myResultList.append(ddivide(num))\n",
    "print(myResultList)"
   ]
  },
  {
   "cell_type": "markdown",
   "id": "0190809b",
   "metadata": {},
   "source": [
    "***map***"
   ]
  },
  {
   "cell_type": "code",
   "execution_count": 1,
   "id": "821635c8",
   "metadata": {},
   "outputs": [],
   "source": [
    "def controlstring(string):\n",
    "    return \"Salih\" in string"
   ]
  },
  {
   "cell_type": "code",
   "execution_count": 2,
   "id": "fca40985",
   "metadata": {},
   "outputs": [
    {
     "data": {
      "text/plain": [
       "True"
      ]
     },
     "execution_count": 2,
     "metadata": {},
     "output_type": "execute_result"
    }
   ],
   "source": [
    "controlstring(\"Salih Aksakalli\")"
   ]
  },
  {
   "cell_type": "code",
   "execution_count": 3,
   "id": "927f4504-7680-4c0d-af55-2c0a97d882db",
   "metadata": {},
   "outputs": [
    {
     "data": {
      "text/plain": [
       "False"
      ]
     },
     "execution_count": 3,
     "metadata": {},
     "output_type": "execute_result"
    }
   ],
   "source": [
    "controlstring(\" Aksakalli\")"
   ]
  },
  {
   "cell_type": "code",
   "execution_count": 4,
   "id": "0c6d9029-e66c-4f02-bf3b-0c1e55bddb73",
   "metadata": {},
   "outputs": [],
   "source": [
    "myStringList = [\"Salih Aksakalli\",\" Aksakalli\",\"Salih\",]"
   ]
  },
  {
   "cell_type": "code",
   "execution_count": 5,
   "id": "fb135989-5e4d-4bee-9f56-d2c0ed0bdc4c",
   "metadata": {},
   "outputs": [
    {
     "data": {
      "text/plain": [
       "[True, False, True]"
      ]
     },
     "execution_count": 5,
     "metadata": {},
     "output_type": "execute_result"
    }
   ],
   "source": [
    "list(map(controlstring,myStringList))"
   ]
  },
  {
   "cell_type": "markdown",
   "id": "d3db6720-b71d-469b-ba12-76931a078e85",
   "metadata": {},
   "source": [
    "## Filter"
   ]
  },
  {
   "cell_type": "code",
   "execution_count": 6,
   "id": "5edaffec-9245-460b-b3f7-dbb3eca906c0",
   "metadata": {},
   "outputs": [
    {
     "data": {
      "text/plain": [
       "<filter at 0x1cb390c2080>"
      ]
     },
     "execution_count": 6,
     "metadata": {},
     "output_type": "execute_result"
    }
   ],
   "source": [
    "filter(controlstring,myStringList)"
   ]
  },
  {
   "cell_type": "code",
   "execution_count": 7,
   "id": "eab3eff3-a4be-4a8c-8e90-ab2f7f9a36a4",
   "metadata": {},
   "outputs": [
    {
     "data": {
      "text/plain": [
       "['Salih Aksakalli', 'Salih']"
      ]
     },
     "execution_count": 7,
     "metadata": {},
     "output_type": "execute_result"
    }
   ],
   "source": [
    "list(filter(controlstring,myStringList))"
   ]
  },
  {
   "cell_type": "markdown",
   "id": "1073d79c-b8ab-4030-ac1c-b14ddbe2c0cb",
   "metadata": {},
   "source": [
    "# Lambda"
   ]
  },
  {
   "cell_type": "code",
   "execution_count": 8,
   "id": "e4b7d5a3-b185-4754-814d-a7105a408e85",
   "metadata": {},
   "outputs": [],
   "source": [
    "multiplyLambda = lambda num : num * 2"
   ]
  },
  {
   "cell_type": "code",
   "execution_count": 9,
   "id": "244715b5-7883-41f3-9b2d-4c5fb69e4432",
   "metadata": {},
   "outputs": [
    {
     "data": {
      "text/plain": [
       "function"
      ]
     },
     "execution_count": 9,
     "metadata": {},
     "output_type": "execute_result"
    }
   ],
   "source": [
    "type(multiplyLambda)"
   ]
  },
  {
   "cell_type": "code",
   "execution_count": 10,
   "id": "15225758-9bcc-4642-a14b-a45d53056898",
   "metadata": {},
   "outputs": [
    {
     "data": {
      "text/plain": [
       "40"
      ]
     },
     "execution_count": 10,
     "metadata": {},
     "output_type": "execute_result"
    }
   ],
   "source": [
    "multiplyLambda(20)"
   ]
  },
  {
   "cell_type": "code",
   "execution_count": 11,
   "id": "244995ca-a8ae-4d81-a99d-5a56d044201f",
   "metadata": {},
   "outputs": [],
   "source": [
    "result = multiplyLambda(20)"
   ]
  },
  {
   "cell_type": "code",
   "execution_count": 12,
   "id": "3f2461f5-b8e2-42f7-b7d5-6e6d67956513",
   "metadata": {},
   "outputs": [
    {
     "data": {
      "text/plain": [
       "40"
      ]
     },
     "execution_count": 12,
     "metadata": {},
     "output_type": "execute_result"
    }
   ],
   "source": [
    "result"
   ]
  },
  {
   "cell_type": "code",
   "execution_count": 13,
   "id": "8478644d-5153-4739-818a-44890ab18456",
   "metadata": {},
   "outputs": [],
   "source": [
    "numList =  [10,20,30,40,50]"
   ]
  },
  {
   "cell_type": "code",
   "execution_count": 14,
   "id": "6f30d39f-c8f1-4219-8d72-b86e27da375c",
   "metadata": {},
   "outputs": [
    {
     "data": {
      "text/plain": [
       "[2.5, 5.0, 7.5, 10.0, 12.5]"
      ]
     },
     "execution_count": 14,
     "metadata": {},
     "output_type": "execute_result"
    }
   ],
   "source": [
    "list(map(lambda num : num/4,numList))"
   ]
  }
 ],
 "metadata": {
  "kernelspec": {
   "display_name": "Python 3 (ipykernel)",
   "language": "python",
   "name": "python3"
  },
  "language_info": {
   "codemirror_mode": {
    "name": "ipython",
    "version": 3
   },
   "file_extension": ".py",
   "mimetype": "text/x-python",
   "name": "python",
   "nbconvert_exporter": "python",
   "pygments_lexer": "ipython3",
   "version": "3.11.5"
  }
 },
 "nbformat": 4,
 "nbformat_minor": 5
}
