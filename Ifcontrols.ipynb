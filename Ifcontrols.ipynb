{
 "cells": [
  {
   "cell_type": "code",
   "execution_count": 1,
   "id": "c7e9d3a0",
   "metadata": {},
   "outputs": [
    {
     "data": {
      "text/plain": [
       "True"
      ]
     },
     "execution_count": 1,
     "metadata": {},
     "output_type": "execute_result"
    }
   ],
   "source": [
    "5 not in [10,20,30]"
   ]
  },
  {
   "cell_type": "code",
   "execution_count": 2,
   "id": "d0bc0cdf",
   "metadata": {},
   "outputs": [
    {
     "data": {
      "text/plain": [
       "True"
      ]
     },
     "execution_count": 2,
     "metadata": {},
     "output_type": "execute_result"
    }
   ],
   "source": [
    "10 in {10,20,30}"
   ]
  },
  {
   "cell_type": "code",
   "execution_count": 3,
   "id": "c550c101",
   "metadata": {},
   "outputs": [],
   "source": [
    "my_dictionary = {\"a\":10,\"b\":20,\"c\":30}"
   ]
  },
  {
   "cell_type": "code",
   "execution_count": 4,
   "id": "47278e77",
   "metadata": {},
   "outputs": [
    {
     "data": {
      "text/plain": [
       "True"
      ]
     },
     "execution_count": 4,
     "metadata": {},
     "output_type": "execute_result"
    }
   ],
   "source": [
    "10 in my_dictionary.values()"
   ]
  },
  {
   "cell_type": "code",
   "execution_count": 5,
   "id": "2700688d",
   "metadata": {},
   "outputs": [
    {
     "data": {
      "text/plain": [
       "True"
      ]
     },
     "execution_count": 5,
     "metadata": {},
     "output_type": "execute_result"
    }
   ],
   "source": [
    "\"a\" in my_dictionary.keys()"
   ]
  },
  {
   "cell_type": "code",
   "execution_count": 6,
   "id": "7e86d5b6",
   "metadata": {},
   "outputs": [
    {
     "data": {
      "text/plain": [
       "True"
      ]
     },
     "execution_count": 6,
     "metadata": {},
     "output_type": "execute_result"
    }
   ],
   "source": [
    "10 in (10,20,30)"
   ]
  },
  {
   "cell_type": "code",
   "execution_count": 7,
   "id": "98d2f42c",
   "metadata": {},
   "outputs": [],
   "source": [
    "mySuperHero = \"Batman\""
   ]
  },
  {
   "cell_type": "code",
   "execution_count": 8,
   "id": "868e0e16",
   "metadata": {},
   "outputs": [
    {
     "data": {
      "text/plain": [
       "False"
      ]
     },
     "execution_count": 8,
     "metadata": {},
     "output_type": "execute_result"
    }
   ],
   "source": [
    "mySuperHero == \"Superman\""
   ]
  },
  {
   "cell_type": "code",
   "execution_count": 9,
   "id": "d5e489a2",
   "metadata": {},
   "outputs": [
    {
     "name": "stdout",
     "output_type": "stream",
     "text": [
      "batman\n",
      "salih\n"
     ]
    }
   ],
   "source": [
    "if mySuperHero ==\"Batman\":\n",
    "    #indentation\n",
    "    print(\"batman\")\n",
    "    print(\"salih\")"
   ]
  },
  {
   "cell_type": "code",
   "execution_count": 10,
   "id": "64d47251",
   "metadata": {},
   "outputs": [
    {
     "name": "stdout",
     "output_type": "stream",
     "text": [
      "batman\n",
      "salih\n"
     ]
    }
   ],
   "source": [
    "if mySuperHero ==\"Batman\":\n",
    "    #indentation\n",
    "    print(\"batman\")\n",
    "    print(\"salih\")"
   ]
  },
  {
   "cell_type": "code",
   "execution_count": 11,
   "id": "a73f3291",
   "metadata": {},
   "outputs": [
    {
     "name": "stdout",
     "output_type": "stream",
     "text": [
      "hello world\n"
     ]
    }
   ],
   "source": [
    "if 3>2:\n",
    "    print(\"hello world\")"
   ]
  },
  {
   "cell_type": "code",
   "execution_count": 20,
   "id": "093e92c8",
   "metadata": {},
   "outputs": [
    {
     "name": "stdout",
     "output_type": "stream",
     "text": [
      "Lütfen favori super kahramninizi giriniz: Wonder Woman \n"
     ]
    }
   ],
   "source": [
    "mySuperHero = input(\"Lütfen favori super kahramninizi giriniz: \")"
   ]
  },
  {
   "cell_type": "code",
   "execution_count": 21,
   "id": "f3e53912",
   "metadata": {},
   "outputs": [
    {
     "name": "stdout",
     "output_type": "stream",
     "text": [
      ":(\n"
     ]
    }
   ],
   "source": [
    "if  mySuperHero == \"Superman\" :\n",
    "    print(\"Superman\")\n",
    "elif mySuperHero == \"Aquaman\":\n",
    "    print(\"Aquaman\")\n",
    "elif mySuperHero == \"Iron man \" :\n",
    "    print(\"Iron man\")\n",
    "else:\n",
    "    print(\":(\")"
   ]
  },
  {
   "cell_type": "code",
   "execution_count": 4,
   "id": "d7b9f249",
   "metadata": {},
   "outputs": [
    {
     "name": "stdout",
     "output_type": "stream",
     "text": [
      "Lütfen favori super kahramninizi giriniz: Spider Man\n"
     ]
    }
   ],
   "source": [
    "mySuperHero = input(\"Lütfen favori super kahramninizi giriniz: \")"
   ]
  },
  {
   "cell_type": "code",
   "execution_count": 5,
   "id": "6b5e24b0",
   "metadata": {},
   "outputs": [],
   "source": [
    "mySuperHeroList = [\"Spider Man\",\"Iron Man\",\"Thor\",\"Black Widow\"]"
   ]
  },
  {
   "cell_type": "code",
   "execution_count": 7,
   "id": "7ec8edc0",
   "metadata": {},
   "outputs": [
    {
     "name": "stdout",
     "output_type": "stream",
     "text": [
      ":D\n"
     ]
    }
   ],
   "source": [
    "if mySuperHero in mySuperHeroList :\n",
    "    print(\":D\")\n",
    "else:\n",
    "    print(\":( \")"
   ]
  },
  {
   "cell_type": "code",
   "execution_count": null,
   "id": "9c7130d3",
   "metadata": {},
   "outputs": [],
   "source": []
  }
 ],
 "metadata": {
  "kernelspec": {
   "display_name": "Python 3 (ipykernel)",
   "language": "python",
   "name": "python3"
  },
  "language_info": {
   "codemirror_mode": {
    "name": "ipython",
    "version": 3
   },
   "file_extension": ".py",
   "mimetype": "text/x-python",
   "name": "python",
   "nbconvert_exporter": "python",
   "pygments_lexer": "ipython3",
   "version": "3.11.4"
  }
 },
 "nbformat": 4,
 "nbformat_minor": 5
}
